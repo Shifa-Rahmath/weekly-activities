{
 "cells": [
  {
   "cell_type": "code",
   "execution_count": 60,
   "id": "a1d84169",
   "metadata": {},
   "outputs": [],
   "source": [
    "import pandas as pd\n",
    "import numpy as np\n",
    "import matplotlib.pyplot as plt\n",
    "import seaborn as sns\n",
    "from sklearn import linear_model"
   ]
  },
  {
   "cell_type": "markdown",
   "id": "6e9fd01f",
   "metadata": {},
   "source": [
    "# 1. Explain the dataset"
   ]
  },
  {
   "cell_type": "code",
   "execution_count": 59,
   "id": "30520b00",
   "metadata": {},
   "outputs": [
    {
     "data": {
      "text/html": [
       "<div>\n",
       "<style scoped>\n",
       "    .dataframe tbody tr th:only-of-type {\n",
       "        vertical-align: middle;\n",
       "    }\n",
       "\n",
       "    .dataframe tbody tr th {\n",
       "        vertical-align: top;\n",
       "    }\n",
       "\n",
       "    .dataframe thead th {\n",
       "        text-align: right;\n",
       "    }\n",
       "</style>\n",
       "<table border=\"1\" class=\"dataframe\">\n",
       "  <thead>\n",
       "    <tr style=\"text-align: right;\">\n",
       "      <th></th>\n",
       "      <th>TV</th>\n",
       "      <th>Radio</th>\n",
       "      <th>Newspaper</th>\n",
       "      <th>Sales</th>\n",
       "    </tr>\n",
       "    <tr>\n",
       "      <th>Unnamed: 0</th>\n",
       "      <th></th>\n",
       "      <th></th>\n",
       "      <th></th>\n",
       "      <th></th>\n",
       "    </tr>\n",
       "  </thead>\n",
       "  <tbody>\n",
       "    <tr>\n",
       "      <th>1</th>\n",
       "      <td>230.1</td>\n",
       "      <td>37.8</td>\n",
       "      <td>69.2</td>\n",
       "      <td>22.1</td>\n",
       "    </tr>\n",
       "    <tr>\n",
       "      <th>2</th>\n",
       "      <td>44.5</td>\n",
       "      <td>39.3</td>\n",
       "      <td>45.1</td>\n",
       "      <td>10.4</td>\n",
       "    </tr>\n",
       "    <tr>\n",
       "      <th>3</th>\n",
       "      <td>17.2</td>\n",
       "      <td>45.9</td>\n",
       "      <td>69.3</td>\n",
       "      <td>9.3</td>\n",
       "    </tr>\n",
       "    <tr>\n",
       "      <th>4</th>\n",
       "      <td>151.5</td>\n",
       "      <td>41.3</td>\n",
       "      <td>58.5</td>\n",
       "      <td>18.5</td>\n",
       "    </tr>\n",
       "    <tr>\n",
       "      <th>5</th>\n",
       "      <td>180.8</td>\n",
       "      <td>10.8</td>\n",
       "      <td>58.4</td>\n",
       "      <td>12.9</td>\n",
       "    </tr>\n",
       "  </tbody>\n",
       "</table>\n",
       "</div>"
      ],
      "text/plain": [
       "               TV  Radio  Newspaper  Sales\n",
       "Unnamed: 0                                \n",
       "1           230.1   37.8       69.2   22.1\n",
       "2            44.5   39.3       45.1   10.4\n",
       "3            17.2   45.9       69.3    9.3\n",
       "4           151.5   41.3       58.5   18.5\n",
       "5           180.8   10.8       58.4   12.9"
      ]
     },
     "execution_count": 59,
     "metadata": {},
     "output_type": "execute_result"
    }
   ],
   "source": [
    "df = pd.read_csv(\"Advertising.csv\")\n",
    "df.set_index('Unnamed: 0',inplace=True)\n",
    "df.head()"
   ]
  },
  {
   "cell_type": "markdown",
   "id": "ae26de25",
   "metadata": {},
   "source": [
    "# 2. Check the summary statistics and discuss the max, min, avg, median,\n",
    "and percentiles"
   ]
  },
  {
   "cell_type": "code",
   "execution_count": 17,
   "id": "035cf4c3",
   "metadata": {},
   "outputs": [
    {
     "data": {
      "text/html": [
       "<div>\n",
       "<style scoped>\n",
       "    .dataframe tbody tr th:only-of-type {\n",
       "        vertical-align: middle;\n",
       "    }\n",
       "\n",
       "    .dataframe tbody tr th {\n",
       "        vertical-align: top;\n",
       "    }\n",
       "\n",
       "    .dataframe thead th {\n",
       "        text-align: right;\n",
       "    }\n",
       "</style>\n",
       "<table border=\"1\" class=\"dataframe\">\n",
       "  <thead>\n",
       "    <tr style=\"text-align: right;\">\n",
       "      <th></th>\n",
       "      <th>TV</th>\n",
       "      <th>Radio</th>\n",
       "      <th>Newspaper</th>\n",
       "      <th>Sales</th>\n",
       "    </tr>\n",
       "  </thead>\n",
       "  <tbody>\n",
       "    <tr>\n",
       "      <th>count</th>\n",
       "      <td>200.000000</td>\n",
       "      <td>200.000000</td>\n",
       "      <td>200.000000</td>\n",
       "      <td>200.000000</td>\n",
       "    </tr>\n",
       "    <tr>\n",
       "      <th>mean</th>\n",
       "      <td>147.042500</td>\n",
       "      <td>23.264000</td>\n",
       "      <td>30.554000</td>\n",
       "      <td>14.022500</td>\n",
       "    </tr>\n",
       "    <tr>\n",
       "      <th>std</th>\n",
       "      <td>85.854236</td>\n",
       "      <td>14.846809</td>\n",
       "      <td>21.778621</td>\n",
       "      <td>5.217457</td>\n",
       "    </tr>\n",
       "    <tr>\n",
       "      <th>min</th>\n",
       "      <td>0.700000</td>\n",
       "      <td>0.000000</td>\n",
       "      <td>0.300000</td>\n",
       "      <td>1.600000</td>\n",
       "    </tr>\n",
       "    <tr>\n",
       "      <th>25%</th>\n",
       "      <td>74.375000</td>\n",
       "      <td>9.975000</td>\n",
       "      <td>12.750000</td>\n",
       "      <td>10.375000</td>\n",
       "    </tr>\n",
       "    <tr>\n",
       "      <th>50%</th>\n",
       "      <td>149.750000</td>\n",
       "      <td>22.900000</td>\n",
       "      <td>25.750000</td>\n",
       "      <td>12.900000</td>\n",
       "    </tr>\n",
       "    <tr>\n",
       "      <th>75%</th>\n",
       "      <td>218.825000</td>\n",
       "      <td>36.525000</td>\n",
       "      <td>45.100000</td>\n",
       "      <td>17.400000</td>\n",
       "    </tr>\n",
       "    <tr>\n",
       "      <th>max</th>\n",
       "      <td>296.400000</td>\n",
       "      <td>49.600000</td>\n",
       "      <td>114.000000</td>\n",
       "      <td>27.000000</td>\n",
       "    </tr>\n",
       "  </tbody>\n",
       "</table>\n",
       "</div>"
      ],
      "text/plain": [
       "               TV       Radio   Newspaper       Sales\n",
       "count  200.000000  200.000000  200.000000  200.000000\n",
       "mean   147.042500   23.264000   30.554000   14.022500\n",
       "std     85.854236   14.846809   21.778621    5.217457\n",
       "min      0.700000    0.000000    0.300000    1.600000\n",
       "25%     74.375000    9.975000   12.750000   10.375000\n",
       "50%    149.750000   22.900000   25.750000   12.900000\n",
       "75%    218.825000   36.525000   45.100000   17.400000\n",
       "max    296.400000   49.600000  114.000000   27.000000"
      ]
     },
     "execution_count": 17,
     "metadata": {},
     "output_type": "execute_result"
    }
   ],
   "source": [
    "df.describe()"
   ]
  },
  {
   "cell_type": "markdown",
   "id": "e11948a8",
   "metadata": {},
   "source": [
    "# 3. Draw a scatter plot between TV and sales and write your insights"
   ]
  },
  {
   "cell_type": "code",
   "execution_count": 7,
   "id": "321efcd8",
   "metadata": {},
   "outputs": [
    {
     "data": {
      "text/plain": [
       "Text(0, 0.5, 'Sales')"
      ]
     },
     "execution_count": 7,
     "metadata": {},
     "output_type": "execute_result"
    },
    {
     "data": {
      "image/png": "[encoded data removed]",
      "text/plain": [
       "<Figure size 432x288 with 1 Axes>"
      ]
     },
     "metadata": {
      "needs_background": "light"
     },
     "output_type": "display_data"
    }
   ],
   "source": [
    "plt.scatter(df['TV'], df['Sales'])\n",
    "plt.title('TV and sales', fontsize=15)\n",
    "plt.xlabel('TV')\n",
    "plt.ylabel('Sales')"
   ]
  },
  {
   "cell_type": "code",
   "execution_count": 26,
   "id": "c02fe739",
   "metadata": {},
   "outputs": [
    {
     "data": {
      "text/plain": [
       "<seaborn.axisgrid.PairGrid at 0x183d52a2f70>"
      ]
     },
     "execution_count": 26,
     "metadata": {},
     "output_type": "execute_result"
    },
    {
     "data": {
      "image/png": "[encoded data removed]",
      "text/plain": [
       "<Figure size 576x576 with 20 Axes>"
      ]
     },
     "metadata": {
      "needs_background": "light"
     },
     "output_type": "display_data"
    }
   ],
   "source": [
    "df_pairplot=df.dropna()\n",
    "df_pairplot.to_csv('Advertising.csv')\n",
    "sns.pairplot(df_pairplot, height=2)"
   ]
  },
  {
   "cell_type": "code",
   "execution_count": 27,
   "id": "6e2c08f9",
   "metadata": {},
   "outputs": [],
   "source": [
    "#sns.pairplot(df)"
   ]
  },
  {
   "cell_type": "markdown",
   "id": "223ee299",
   "metadata": {},
   "source": [
    "# 4. Do a correlation analysis on the data set"
   ]
  },
  {
   "cell_type": "code",
   "execution_count": 18,
   "id": "fd9518d3",
   "metadata": {},
   "outputs": [
    {
     "data": {
      "text/html": [
       "<div>\n",
       "<style scoped>\n",
       "    .dataframe tbody tr th:only-of-type {\n",
       "        vertical-align: middle;\n",
       "    }\n",
       "\n",
       "    .dataframe tbody tr th {\n",
       "        vertical-align: top;\n",
       "    }\n",
       "\n",
       "    .dataframe thead th {\n",
       "        text-align: right;\n",
       "    }\n",
       "</style>\n",
       "<table border=\"1\" class=\"dataframe\">\n",
       "  <thead>\n",
       "    <tr style=\"text-align: right;\">\n",
       "      <th></th>\n",
       "      <th>TV</th>\n",
       "      <th>Radio</th>\n",
       "      <th>Newspaper</th>\n",
       "      <th>Sales</th>\n",
       "    </tr>\n",
       "  </thead>\n",
       "  <tbody>\n",
       "    <tr>\n",
       "      <th>TV</th>\n",
       "      <td>7370.949893</td>\n",
       "      <td>69.862492</td>\n",
       "      <td>105.919452</td>\n",
       "      <td>350.390195</td>\n",
       "    </tr>\n",
       "    <tr>\n",
       "      <th>Radio</th>\n",
       "      <td>69.862492</td>\n",
       "      <td>220.427743</td>\n",
       "      <td>114.496979</td>\n",
       "      <td>44.635688</td>\n",
       "    </tr>\n",
       "    <tr>\n",
       "      <th>Newspaper</th>\n",
       "      <td>105.919452</td>\n",
       "      <td>114.496979</td>\n",
       "      <td>474.308326</td>\n",
       "      <td>25.941392</td>\n",
       "    </tr>\n",
       "    <tr>\n",
       "      <th>Sales</th>\n",
       "      <td>350.390195</td>\n",
       "      <td>44.635688</td>\n",
       "      <td>25.941392</td>\n",
       "      <td>27.221853</td>\n",
       "    </tr>\n",
       "  </tbody>\n",
       "</table>\n",
       "</div>"
      ],
      "text/plain": [
       "                    TV       Radio   Newspaper       Sales\n",
       "TV         7370.949893   69.862492  105.919452  350.390195\n",
       "Radio        69.862492  220.427743  114.496979   44.635688\n",
       "Newspaper   105.919452  114.496979  474.308326   25.941392\n",
       "Sales       350.390195   44.635688   25.941392   27.221853"
      ]
     },
     "execution_count": 18,
     "metadata": {},
     "output_type": "execute_result"
    }
   ],
   "source": [
    "df.cov()"
   ]
  },
  {
   "cell_type": "code",
   "execution_count": 19,
   "id": "8701e979",
   "metadata": {},
   "outputs": [
    {
     "data": {
      "text/html": [
       "<div>\n",
       "<style scoped>\n",
       "    .dataframe tbody tr th:only-of-type {\n",
       "        vertical-align: middle;\n",
       "    }\n",
       "\n",
       "    .dataframe tbody tr th {\n",
       "        vertical-align: top;\n",
       "    }\n",
       "\n",
       "    .dataframe thead th {\n",
       "        text-align: right;\n",
       "    }\n",
       "</style>\n",
       "<table border=\"1\" class=\"dataframe\">\n",
       "  <thead>\n",
       "    <tr style=\"text-align: right;\">\n",
       "      <th></th>\n",
       "      <th>TV</th>\n",
       "      <th>Radio</th>\n",
       "      <th>Newspaper</th>\n",
       "      <th>Sales</th>\n",
       "    </tr>\n",
       "  </thead>\n",
       "  <tbody>\n",
       "    <tr>\n",
       "      <th>TV</th>\n",
       "      <td>1.000000</td>\n",
       "      <td>0.054809</td>\n",
       "      <td>0.056648</td>\n",
       "      <td>0.782224</td>\n",
       "    </tr>\n",
       "    <tr>\n",
       "      <th>Radio</th>\n",
       "      <td>0.054809</td>\n",
       "      <td>1.000000</td>\n",
       "      <td>0.354104</td>\n",
       "      <td>0.576223</td>\n",
       "    </tr>\n",
       "    <tr>\n",
       "      <th>Newspaper</th>\n",
       "      <td>0.056648</td>\n",
       "      <td>0.354104</td>\n",
       "      <td>1.000000</td>\n",
       "      <td>0.228299</td>\n",
       "    </tr>\n",
       "    <tr>\n",
       "      <th>Sales</th>\n",
       "      <td>0.782224</td>\n",
       "      <td>0.576223</td>\n",
       "      <td>0.228299</td>\n",
       "      <td>1.000000</td>\n",
       "    </tr>\n",
       "  </tbody>\n",
       "</table>\n",
       "</div>"
      ],
      "text/plain": [
       "                 TV     Radio  Newspaper     Sales\n",
       "TV         1.000000  0.054809   0.056648  0.782224\n",
       "Radio      0.054809  1.000000   0.354104  0.576223\n",
       "Newspaper  0.056648  0.354104   1.000000  0.228299\n",
       "Sales      0.782224  0.576223   0.228299  1.000000"
      ]
     },
     "execution_count": 19,
     "metadata": {},
     "output_type": "execute_result"
    }
   ],
   "source": [
    "df.corr()"
   ]
  },
  {
   "cell_type": "code",
   "execution_count": 22,
   "id": "2bd6edba",
   "metadata": {},
   "outputs": [],
   "source": [
    "#df.corr(method='pearson')"
   ]
  },
  {
   "cell_type": "code",
   "execution_count": 23,
   "id": "6d3cdffe",
   "metadata": {
    "scrolled": true
   },
   "outputs": [
    {
     "data": {
      "text/plain": [
       "<AxesSubplot:>"
      ]
     },
     "execution_count": 23,
     "metadata": {},
     "output_type": "execute_result"
    },
    {
     "data": {
      "image/png": "[encoded data removed]",
      "text/plain": [
       "<Figure size 576x576 with 2 Axes>"
      ]
     },
     "metadata": {
      "needs_background": "light"
     },
     "output_type": "display_data"
    }
   ],
   "source": [
    "plt.figure(figsize=(8,8))\n",
    "sns.heatmap(df.corr(),annot=True,cmap='coolwarm')"
   ]
  },
  {
   "cell_type": "markdown",
   "id": "bd4032b1",
   "metadata": {},
   "source": [
    "# 5. Fit a linear regression model on the dataset"
   ]
  },
  {
   "cell_type": "code",
   "execution_count": 41,
   "id": "a84604ee",
   "metadata": {},
   "outputs": [],
   "source": [
    "x=df.drop(['Sales'],axis=1).values\n",
    "y=df['Sales'].values"
   ]
  },
  {
   "cell_type": "code",
   "execution_count": 42,
   "id": "3de30bb7",
   "metadata": {},
   "outputs": [
    {
     "name": "stdout",
     "output_type": "stream",
     "text": [
      "[[230.1  37.8  69.2]\n",
      " [ 44.5  39.3  45.1]\n",
      " [ 17.2  45.9  69.3]\n",
      " [151.5  41.3  58.5]\n",
      " [180.8  10.8  58.4]\n",
      " [  8.7  48.9  75. ]\n",
      " [ 57.5  32.8  23.5]\n",
      " [120.2  19.6  11.6]\n",
      " [  8.6   2.1   1. ]\n",
      " [199.8   2.6  21.2]\n",
      " [ 66.1   5.8  24.2]\n",
      " [214.7  24.    4. ]\n",
      " [ 23.8  35.1  65.9]\n",
      " [ 97.5   7.6   7.2]\n",
      " [204.1  32.9  46. ]\n",
      " [195.4  47.7  52.9]\n",
      " [ 67.8  36.6 114. ]\n",
      " [281.4  39.6  55.8]\n",
      " [ 69.2  20.5  18.3]\n",
      " [147.3  23.9  19.1]\n",
      " [218.4  27.7  53.4]\n",
      " [237.4   5.1  23.5]\n",
      " [ 13.2  15.9  49.6]\n",
      " [228.3  16.9  26.2]\n",
      " [ 62.3  12.6  18.3]\n",
      " [262.9   3.5  19.5]\n",
      " [142.9  29.3  12.6]\n",
      " [240.1  16.7  22.9]\n",
      " [248.8  27.1  22.9]\n",
      " [ 70.6  16.   40.8]\n",
      " [292.9  28.3  43.2]\n",
      " [112.9  17.4  38.6]\n",
      " [ 97.2   1.5  30. ]\n",
      " [265.6  20.    0.3]\n",
      " [ 95.7   1.4   7.4]\n",
      " [290.7   4.1   8.5]\n",
      " [266.9  43.8   5. ]\n",
      " [ 74.7  49.4  45.7]\n",
      " [ 43.1  26.7  35.1]\n",
      " [228.   37.7  32. ]\n",
      " [202.5  22.3  31.6]\n",
      " [177.   33.4  38.7]\n",
      " [293.6  27.7   1.8]\n",
      " [206.9   8.4  26.4]\n",
      " [ 25.1  25.7  43.3]\n",
      " [175.1  22.5  31.5]\n",
      " [ 89.7   9.9  35.7]\n",
      " [239.9  41.5  18.5]\n",
      " [227.2  15.8  49.9]\n",
      " [ 66.9  11.7  36.8]\n",
      " [199.8   3.1  34.6]\n",
      " [100.4   9.6   3.6]\n",
      " [216.4  41.7  39.6]\n",
      " [182.6  46.2  58.7]\n",
      " [262.7  28.8  15.9]\n",
      " [198.9  49.4  60. ]\n",
      " [  7.3  28.1  41.4]\n",
      " [136.2  19.2  16.6]\n",
      " [210.8  49.6  37.7]\n",
      " [210.7  29.5   9.3]\n",
      " [ 53.5   2.   21.4]\n",
      " [261.3  42.7  54.7]\n",
      " [239.3  15.5  27.3]\n",
      " [102.7  29.6   8.4]\n",
      " [131.1  42.8  28.9]\n",
      " [ 69.    9.3   0.9]\n",
      " [ 31.5  24.6   2.2]\n",
      " [139.3  14.5  10.2]\n",
      " [237.4  27.5  11. ]\n",
      " [216.8  43.9  27.2]\n",
      " [199.1  30.6  38.7]\n",
      " [109.8  14.3  31.7]\n",
      " [ 26.8  33.   19.3]\n",
      " [129.4   5.7  31.3]\n",
      " [213.4  24.6  13.1]\n",
      " [ 16.9  43.7  89.4]\n",
      " [ 27.5   1.6  20.7]\n",
      " [120.5  28.5  14.2]\n",
      " [  5.4  29.9   9.4]\n",
      " [116.    7.7  23.1]\n",
      " [ 76.4  26.7  22.3]\n",
      " [239.8   4.1  36.9]\n",
      " [ 75.3  20.3  32.5]\n",
      " [ 68.4  44.5  35.6]\n",
      " [213.5  43.   33.8]\n",
      " [193.2  18.4  65.7]\n",
      " [ 76.3  27.5  16. ]\n",
      " [110.7  40.6  63.2]\n",
      " [ 88.3  25.5  73.4]\n",
      " [109.8  47.8  51.4]\n",
      " [134.3   4.9   9.3]\n",
      " [ 28.6   1.5  33. ]\n",
      " [217.7  33.5  59. ]\n",
      " [250.9  36.5  72.3]\n",
      " [107.4  14.   10.9]\n",
      " [163.3  31.6  52.9]\n",
      " [197.6   3.5   5.9]\n",
      " [184.9  21.   22. ]\n",
      " [289.7  42.3  51.2]\n",
      " [135.2  41.7  45.9]\n",
      " [222.4   4.3  49.8]\n",
      " [296.4  36.3 100.9]\n",
      " [280.2  10.1  21.4]\n",
      " [187.9  17.2  17.9]\n",
      " [238.2  34.3   5.3]\n",
      " [137.9  46.4  59. ]\n",
      " [ 25.   11.   29.7]\n",
      " [ 90.4   0.3  23.2]\n",
      " [ 13.1   0.4  25.6]\n",
      " [255.4  26.9   5.5]\n",
      " [225.8   8.2  56.5]\n",
      " [241.7  38.   23.2]\n",
      " [175.7  15.4   2.4]\n",
      " [209.6  20.6  10.7]\n",
      " [ 78.2  46.8  34.5]\n",
      " [ 75.1  35.   52.7]\n",
      " [139.2  14.3  25.6]\n",
      " [ 76.4   0.8  14.8]\n",
      " [125.7  36.9  79.2]\n",
      " [ 19.4  16.   22.3]\n",
      " [141.3  26.8  46.2]\n",
      " [ 18.8  21.7  50.4]\n",
      " [224.    2.4  15.6]\n",
      " [123.1  34.6  12.4]\n",
      " [229.5  32.3  74.2]\n",
      " [ 87.2  11.8  25.9]\n",
      " [  7.8  38.9  50.6]\n",
      " [ 80.2   0.    9.2]\n",
      " [220.3  49.    3.2]\n",
      " [ 59.6  12.   43.1]\n",
      " [  0.7  39.6   8.7]\n",
      " [265.2   2.9  43. ]\n",
      " [  8.4  27.2   2.1]\n",
      " [219.8  33.5  45.1]\n",
      " [ 36.9  38.6  65.6]\n",
      " [ 48.3  47.    8.5]\n",
      " [ 25.6  39.    9.3]\n",
      " [273.7  28.9  59.7]\n",
      " [ 43.   25.9  20.5]\n",
      " [184.9  43.9   1.7]\n",
      " [ 73.4  17.   12.9]\n",
      " [193.7  35.4  75.6]\n",
      " [220.5  33.2  37.9]\n",
      " [104.6   5.7  34.4]\n",
      " [ 96.2  14.8  38.9]\n",
      " [140.3   1.9   9. ]\n",
      " [240.1   7.3   8.7]\n",
      " [243.2  49.   44.3]\n",
      " [ 38.   40.3  11.9]\n",
      " [ 44.7  25.8  20.6]\n",
      " [280.7  13.9  37. ]\n",
      " [121.    8.4  48.7]\n",
      " [197.6  23.3  14.2]\n",
      " [171.3  39.7  37.7]\n",
      " [187.8  21.1   9.5]\n",
      " [  4.1  11.6   5.7]\n",
      " [ 93.9  43.5  50.5]\n",
      " [149.8   1.3  24.3]\n",
      " [ 11.7  36.9  45.2]\n",
      " [131.7  18.4  34.6]\n",
      " [172.5  18.1  30.7]\n",
      " [ 85.7  35.8  49.3]\n",
      " [188.4  18.1  25.6]\n",
      " [163.5  36.8   7.4]\n",
      " [117.2  14.7   5.4]\n",
      " [234.5   3.4  84.8]\n",
      " [ 17.9  37.6  21.6]\n",
      " [206.8   5.2  19.4]\n",
      " [215.4  23.6  57.6]\n",
      " [284.3  10.6   6.4]\n",
      " [ 50.   11.6  18.4]\n",
      " [164.5  20.9  47.4]\n",
      " [ 19.6  20.1  17. ]\n",
      " [168.4   7.1  12.8]\n",
      " [222.4   3.4  13.1]\n",
      " [276.9  48.9  41.8]\n",
      " [248.4  30.2  20.3]\n",
      " [170.2   7.8  35.2]\n",
      " [276.7   2.3  23.7]\n",
      " [165.6  10.   17.6]\n",
      " [156.6   2.6   8.3]\n",
      " [218.5   5.4  27.4]\n",
      " [ 56.2   5.7  29.7]\n",
      " [287.6  43.   71.8]\n",
      " [253.8  21.3  30. ]\n",
      " [205.   45.1  19.6]\n",
      " [139.5   2.1  26.6]\n",
      " [191.1  28.7  18.2]\n",
      " [286.   13.9   3.7]\n",
      " [ 18.7  12.1  23.4]\n",
      " [ 39.5  41.1   5.8]\n",
      " [ 75.5  10.8   6. ]\n",
      " [ 17.2   4.1  31.6]\n",
      " [166.8  42.    3.6]\n",
      " [149.7  35.6   6. ]\n",
      " [ 38.2   3.7  13.8]\n",
      " [ 94.2   4.9   8.1]\n",
      " [177.    9.3   6.4]\n",
      " [283.6  42.   66.2]\n",
      " [232.1   8.6   8.7]]\n"
     ]
    }
   ],
   "source": [
    "print(x)"
   ]
  },
  {
   "cell_type": "code",
   "execution_count": 43,
   "id": "37eed3ff",
   "metadata": {
    "scrolled": true
   },
   "outputs": [
    {
     "name": "stdout",
     "output_type": "stream",
     "text": [
      "[22.1 10.4  9.3 18.5 12.9  7.2 11.8 13.2  4.8 10.6  8.6 17.4  9.2  9.7\n",
      " 19.  22.4 12.5 24.4 11.3 14.6 18.  12.5  5.6 15.5  9.7 12.  15.  15.9\n",
      " 18.9 10.5 21.4 11.9  9.6 17.4  9.5 12.8 25.4 14.7 10.1 21.5 16.6 17.1\n",
      " 20.7 12.9  8.5 14.9 10.6 23.2 14.8  9.7 11.4 10.7 22.6 21.2 20.2 23.7\n",
      "  5.5 13.2 23.8 18.4  8.1 24.2 15.7 14.  18.   9.3  9.5 13.4 18.9 22.3\n",
      " 18.3 12.4  8.8 11.  17.   8.7  6.9 14.2  5.3 11.  11.8 12.3 11.3 13.6\n",
      " 21.7 15.2 12.  16.  12.9 16.7 11.2  7.3 19.4 22.2 11.5 16.9 11.7 15.5\n",
      " 25.4 17.2 11.7 23.8 14.8 14.7 20.7 19.2  7.2  8.7  5.3 19.8 13.4 21.8\n",
      " 14.1 15.9 14.6 12.6 12.2  9.4 15.9  6.6 15.5  7.  11.6 15.2 19.7 10.6\n",
      "  6.6  8.8 24.7  9.7  1.6 12.7  5.7 19.6 10.8 11.6  9.5 20.8  9.6 20.7\n",
      " 10.9 19.2 20.1 10.4 11.4 10.3 13.2 25.4 10.9 10.1 16.1 11.6 16.6 19.\n",
      " 15.6  3.2 15.3 10.1  7.3 12.9 14.4 13.3 14.9 18.  11.9 11.9  8.  12.2\n",
      " 17.1 15.   8.4 14.5  7.6 11.7 11.5 27.  20.2 11.7 11.8 12.6 10.5 12.2\n",
      "  8.7 26.2 17.6 22.6 10.3 17.3 15.9  6.7 10.8  9.9  5.9 19.6 17.3  7.6\n",
      "  9.7 12.8 25.5 13.4]\n"
     ]
    }
   ],
   "source": [
    "print(y)"
   ]
  },
  {
   "cell_type": "code",
   "execution_count": 44,
   "id": "510c6163",
   "metadata": {},
   "outputs": [],
   "source": [
    "from sklearn.model_selection import train_test_split\n",
    "x_train,x_test,y_train,y_test=train_test_split(x,y,test_size=0.3,random_state=0)"
   ]
  },
  {
   "cell_type": "code",
   "execution_count": 46,
   "id": "df1397a3",
   "metadata": {},
   "outputs": [
    {
     "data": {
      "text/plain": [
       "LinearRegression()"
      ]
     },
     "execution_count": 46,
     "metadata": {},
     "output_type": "execute_result"
    }
   ],
   "source": [
    "from sklearn.linear_model import LinearRegression\n",
    "ml=LinearRegression()\n",
    "ml.fit(x_train,y_train)"
   ]
  },
  {
   "cell_type": "code",
   "execution_count": 47,
   "id": "93f0f77d",
   "metadata": {},
   "outputs": [
    {
     "name": "stdout",
     "output_type": "stream",
     "text": [
      "[10.05866652  7.43318827  6.95305695 24.16874598 11.98172029  6.54464708\n",
      " 13.19426793 14.90240334 11.07675294 16.25061663 23.0081158   9.12072148\n",
      " 10.29342297 15.3709661  11.62396513 12.1057432  18.55030805 10.85810888\n",
      " 16.13879856 17.20281404 24.25469939  9.43869821 15.13419408 12.41283844\n",
      "  5.66973859 15.23876681 12.1878762  20.95164149 13.22671807  9.20954724\n",
      " 13.39812727 21.61944517 18.05938674 21.14798547  6.73582996  6.16799717\n",
      "  7.98042607 13.09083488 14.86214078  6.23597127 12.35246911  9.19452235\n",
      " 15.04717679 16.23039254 17.17240889 13.3341216   3.68035786 12.53946851\n",
      " 15.93674769  8.67881357 10.62459997 19.5646526  18.3472282  15.24662975\n",
      " 10.04846378  8.17344188 21.49061088 14.137309   16.29760212  8.90502274]\n"
     ]
    }
   ],
   "source": [
    "y_pred=ml.predict(x_test)\n",
    "print(y_pred)"
   ]
  },
  {
   "cell_type": "code",
   "execution_count": 48,
   "id": "09bf199b",
   "metadata": {},
   "outputs": [
    {
     "data": {
      "text/plain": [
       "array([20.68332127])"
      ]
     },
     "execution_count": 48,
     "metadata": {},
     "output_type": "execute_result"
    }
   ],
   "source": [
    "ml.predict([[230.1,37.8,69.2]])"
   ]
  },
  {
   "cell_type": "code",
   "execution_count": 54,
   "id": "0d77d07e",
   "metadata": {},
   "outputs": [
    {
     "data": {
      "text/plain": [
       "0.8649018906637791"
      ]
     },
     "execution_count": 54,
     "metadata": {},
     "output_type": "execute_result"
    }
   ],
   "source": [
    "from sklearn.metrics import r2_score\n",
    "r2_score(y_test,y_pred)"
   ]
  },
  {
   "cell_type": "code",
   "execution_count": 63,
   "id": "c01c1699",
   "metadata": {
    "scrolled": true
   },
   "outputs": [
    {
     "data": {
      "text/plain": [
       "Text(0.5, 1.0, 'actual vs predicted')"
      ]
     },
     "execution_count": 63,
     "metadata": {},
     "output_type": "execute_result"
    },
    {
     "data": {
      "image/png": "[encoded data removed]",
      "text/plain": [
       "<Figure size 1080x720 with 1 Axes>"
      ]
     },
     "metadata": {
      "needs_background": "light"
     },
     "output_type": "display_data"
    }
   ],
   "source": [
    "plt.figure(figsize=(15,10))\n",
    "plt.scatter(y_test,y_pred)\n",
    "plt.xlabel('actual')\n",
    "plt.ylabel('predicted')\n",
    "plt.title('actual vs predicted')"
   ]
  },
  {
   "cell_type": "code",
   "execution_count": 58,
   "id": "dc28317c",
   "metadata": {},
   "outputs": [
    {
     "data": {
      "text/html": [
       "<div>\n",
       "<style scoped>\n",
       "    .dataframe tbody tr th:only-of-type {\n",
       "        vertical-align: middle;\n",
       "    }\n",
       "\n",
       "    .dataframe tbody tr th {\n",
       "        vertical-align: top;\n",
       "    }\n",
       "\n",
       "    .dataframe thead th {\n",
       "        text-align: right;\n",
       "    }\n",
       "</style>\n",
       "<table border=\"1\" class=\"dataframe\">\n",
       "  <thead>\n",
       "    <tr style=\"text-align: right;\">\n",
       "      <th></th>\n",
       "      <th>actual values</th>\n",
       "      <th>predicted values</th>\n",
       "      <th>difference</th>\n",
       "    </tr>\n",
       "  </thead>\n",
       "  <tbody>\n",
       "    <tr>\n",
       "      <th>0</th>\n",
       "      <td>11.3</td>\n",
       "      <td>10.058667</td>\n",
       "      <td>1.241333</td>\n",
       "    </tr>\n",
       "    <tr>\n",
       "      <th>1</th>\n",
       "      <td>8.4</td>\n",
       "      <td>7.433188</td>\n",
       "      <td>0.966812</td>\n",
       "    </tr>\n",
       "    <tr>\n",
       "      <th>2</th>\n",
       "      <td>8.7</td>\n",
       "      <td>6.953057</td>\n",
       "      <td>1.746943</td>\n",
       "    </tr>\n",
       "    <tr>\n",
       "      <th>3</th>\n",
       "      <td>25.4</td>\n",
       "      <td>24.168746</td>\n",
       "      <td>1.231254</td>\n",
       "    </tr>\n",
       "    <tr>\n",
       "      <th>4</th>\n",
       "      <td>11.7</td>\n",
       "      <td>11.981720</td>\n",
       "      <td>-0.281720</td>\n",
       "    </tr>\n",
       "    <tr>\n",
       "      <th>5</th>\n",
       "      <td>8.7</td>\n",
       "      <td>6.544647</td>\n",
       "      <td>2.155353</td>\n",
       "    </tr>\n",
       "    <tr>\n",
       "      <th>6</th>\n",
       "      <td>7.2</td>\n",
       "      <td>13.194268</td>\n",
       "      <td>-5.994268</td>\n",
       "    </tr>\n",
       "    <tr>\n",
       "      <th>7</th>\n",
       "      <td>13.2</td>\n",
       "      <td>14.902403</td>\n",
       "      <td>-1.702403</td>\n",
       "    </tr>\n",
       "    <tr>\n",
       "      <th>8</th>\n",
       "      <td>9.2</td>\n",
       "      <td>11.076753</td>\n",
       "      <td>-1.876753</td>\n",
       "    </tr>\n",
       "    <tr>\n",
       "      <th>9</th>\n",
       "      <td>16.6</td>\n",
       "      <td>16.250617</td>\n",
       "      <td>0.349383</td>\n",
       "    </tr>\n",
       "    <tr>\n",
       "      <th>10</th>\n",
       "      <td>24.2</td>\n",
       "      <td>23.008116</td>\n",
       "      <td>1.191884</td>\n",
       "    </tr>\n",
       "    <tr>\n",
       "      <th>11</th>\n",
       "      <td>10.6</td>\n",
       "      <td>9.120721</td>\n",
       "      <td>1.479279</td>\n",
       "    </tr>\n",
       "    <tr>\n",
       "      <th>12</th>\n",
       "      <td>10.5</td>\n",
       "      <td>10.293423</td>\n",
       "      <td>0.206577</td>\n",
       "    </tr>\n",
       "    <tr>\n",
       "      <th>13</th>\n",
       "      <td>15.6</td>\n",
       "      <td>15.370966</td>\n",
       "      <td>0.229034</td>\n",
       "    </tr>\n",
       "    <tr>\n",
       "      <th>14</th>\n",
       "      <td>11.8</td>\n",
       "      <td>11.623965</td>\n",
       "      <td>0.176035</td>\n",
       "    </tr>\n",
       "    <tr>\n",
       "      <th>15</th>\n",
       "      <td>13.2</td>\n",
       "      <td>12.105743</td>\n",
       "      <td>1.094257</td>\n",
       "    </tr>\n",
       "    <tr>\n",
       "      <th>16</th>\n",
       "      <td>17.4</td>\n",
       "      <td>18.550308</td>\n",
       "      <td>-1.150308</td>\n",
       "    </tr>\n",
       "    <tr>\n",
       "      <th>17</th>\n",
       "      <td>1.6</td>\n",
       "      <td>10.858109</td>\n",
       "      <td>-9.258109</td>\n",
       "    </tr>\n",
       "    <tr>\n",
       "      <th>18</th>\n",
       "      <td>14.7</td>\n",
       "      <td>16.138799</td>\n",
       "      <td>-1.438799</td>\n",
       "    </tr>\n",
       "    <tr>\n",
       "      <th>19</th>\n",
       "      <td>17.0</td>\n",
       "      <td>17.202814</td>\n",
       "      <td>-0.202814</td>\n",
       "    </tr>\n",
       "  </tbody>\n",
       "</table>\n",
       "</div>"
      ],
      "text/plain": [
       "    actual values  predicted values  difference\n",
       "0            11.3         10.058667    1.241333\n",
       "1             8.4          7.433188    0.966812\n",
       "2             8.7          6.953057    1.746943\n",
       "3            25.4         24.168746    1.231254\n",
       "4            11.7         11.981720   -0.281720\n",
       "5             8.7          6.544647    2.155353\n",
       "6             7.2         13.194268   -5.994268\n",
       "7            13.2         14.902403   -1.702403\n",
       "8             9.2         11.076753   -1.876753\n",
       "9            16.6         16.250617    0.349383\n",
       "10           24.2         23.008116    1.191884\n",
       "11           10.6          9.120721    1.479279\n",
       "12           10.5         10.293423    0.206577\n",
       "13           15.6         15.370966    0.229034\n",
       "14           11.8         11.623965    0.176035\n",
       "15           13.2         12.105743    1.094257\n",
       "16           17.4         18.550308   -1.150308\n",
       "17            1.6         10.858109   -9.258109\n",
       "18           14.7         16.138799   -1.438799\n",
       "19           17.0         17.202814   -0.202814"
      ]
     },
     "execution_count": 58,
     "metadata": {},
     "output_type": "execute_result"
    }
   ],
   "source": [
    "pred_y_df=pd.DataFrame({'actual values':y_test,'predicted values':y_pred,'difference':y_test-y_pred})\n",
    "pred_y_df[0:20]"
   ]
  },
  {
   "cell_type": "code",
   "execution_count": 53,
   "id": "0e90015a",
   "metadata": {},
   "outputs": [],
   "source": [
    "#reg=linear_model.LinearRegression()\n",
    "#reg.fit(df[['TV','Radio','Newspaper']],df.Sales)"
   ]
  },
  {
   "cell_type": "code",
   "execution_count": 49,
   "id": "4bee15f3",
   "metadata": {},
   "outputs": [],
   "source": [
    "#reg.coef_"
   ]
  },
  {
   "cell_type": "code",
   "execution_count": 50,
   "id": "31df96c8",
   "metadata": {},
   "outputs": [],
   "source": [
    "#reg.intercept_"
   ]
  },
  {
   "cell_type": "code",
   "execution_count": 51,
   "id": "45e3c05d",
   "metadata": {},
   "outputs": [],
   "source": [
    "#reg.predict([[200,30,60]])"
   ]
  },
  {
   "cell_type": "code",
   "execution_count": null,
   "id": "ed46e567",
   "metadata": {},
   "outputs": [],
   "source": []
  }
 ],
 "metadata": {
  "kernelspec": {
   "display_name": "Python 3",
   "language": "python",
   "name": "python3"
  },
  "language_info": {
   "codemirror_mode": {
    "name": "ipython",
    "version": 3
   },
   "file_extension": ".py",
   "mimetype": "text/x-python",
   "name": "python",
   "nbconvert_exporter": "python",
   "pygments_lexer": "ipython3",
   "version": "3.8.8"
  }
 },
 "nbformat": 4,
 "nbformat_minor": 5
}
